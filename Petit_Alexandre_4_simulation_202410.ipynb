{
 "cells": [
  {
   "cell_type": "markdown",
   "id": "63c572bb",
   "metadata": {},
   "source": [
    "<h1>Segmentez les clients d'un site d'e-commerce - Partie 3: Simulation</h1>\n",
    "\n",
    "* [1. Préparation des données et modules](#10)\n",
    "    * [1.1 Chargements des modules](#11)\n",
    "    * [1.2 Chargement des données](#12)\n",
    "    * [1.3 Conversion au format Datetime](#13)\n",
    "* [2. Sélection des données pour la modélisation](#20)\n",
    "* [3. Modelisation Initiale](#30)\n",
    "* [4. Simulation](#40)\n",
    "\n",
    "<h1>1. Préparation des données et modules</h1><a class=\"anchor\" id=\"10\"></a>\n",
    "<h2>1.1 Chargements des modules</h2><a class=\"anchor\" id=\"11\"></a>"
   ]
  },
  {
   "cell_type": "code",
   "execution_count": 1,
   "id": "7c8957f3",
   "metadata": {},
   "outputs": [],
   "source": [
    "import numpy as np\n",
    "import pandas as pd\n",
    "\n",
    "import matplotlib.pyplot as plt\n",
    "import seaborn as sns\n",
    "%matplotlib inline\n",
    "plt.style.use('seaborn-v0_8-darkgrid')\n",
    "\n",
    "from datetime import datetime as dt\n",
    "\n",
    "from sklearn.cluster import KMeans\n",
    "from sklearn.preprocessing import StandardScaler\n",
    "from sklearn.metrics import adjusted_rand_score"
   ]
  },
  {
   "cell_type": "markdown",
   "id": "40603492",
   "metadata": {},
   "source": [
    "<h2>1.2 Chargement des données</h2><a class=\"anchor\" id=\"12\"></a>"
   ]
  },
  {
   "cell_type": "code",
   "execution_count": 2,
   "id": "9fd70514",
   "metadata": {},
   "outputs": [
    {
     "data": {
      "text/html": [
       "<div>\n",
       "<style scoped>\n",
       "    .dataframe tbody tr th:only-of-type {\n",
       "        vertical-align: middle;\n",
       "    }\n",
       "\n",
       "    .dataframe tbody tr th {\n",
       "        vertical-align: top;\n",
       "    }\n",
       "\n",
       "    .dataframe thead th {\n",
       "        text-align: right;\n",
       "    }\n",
       "</style>\n",
       "<table border=\"1\" class=\"dataframe\">\n",
       "  <thead>\n",
       "    <tr style=\"text-align: right;\">\n",
       "      <th></th>\n",
       "      <th>order_id</th>\n",
       "      <th>customer_id</th>\n",
       "      <th>order_status</th>\n",
       "      <th>order_purchase_timestamp</th>\n",
       "      <th>order_delivered_customer_date</th>\n",
       "      <th>order_estimated_delivery_date</th>\n",
       "      <th>estimated_time</th>\n",
       "      <th>total_time</th>\n",
       "      <th>delta_time</th>\n",
       "      <th>payment_type</th>\n",
       "      <th>payment_value</th>\n",
       "      <th>customer_unique_id</th>\n",
       "      <th>customer_city</th>\n",
       "      <th>customer_state</th>\n",
       "      <th>review_score</th>\n",
       "      <th>geolocation_lat</th>\n",
       "      <th>geolocation_lng</th>\n",
       "    </tr>\n",
       "  </thead>\n",
       "  <tbody>\n",
       "    <tr>\n",
       "      <th>23035</th>\n",
       "      <td>13ff8a02b63113dd72976dab2e01b171</td>\n",
       "      <td>de0af4a54889db8e1d4317a8bea43a25</td>\n",
       "      <td>delivered</td>\n",
       "      <td>2017-05-10 12:57:43</td>\n",
       "      <td>2017-05-19 12:55:55</td>\n",
       "      <td>2017-05-30</td>\n",
       "      <td>19</td>\n",
       "      <td>8.0</td>\n",
       "      <td>-11.0</td>\n",
       "      <td>credit_card</td>\n",
       "      <td>85.14</td>\n",
       "      <td>b9d637448a10f135a21ae39465ad6445</td>\n",
       "      <td>santo antonio de padua</td>\n",
       "      <td>RJ</td>\n",
       "      <td>5.0</td>\n",
       "      <td>-21.539284</td>\n",
       "      <td>-42.185547</td>\n",
       "    </tr>\n",
       "    <tr>\n",
       "      <th>61340</th>\n",
       "      <td>212754a30f758c661afd6430bc7841fc</td>\n",
       "      <td>1dc00a26f0c615d12cf874964e187c14</td>\n",
       "      <td>delivered</td>\n",
       "      <td>2018-06-30 20:01:17</td>\n",
       "      <td>2018-07-09 11:51:14</td>\n",
       "      <td>2018-07-24</td>\n",
       "      <td>23</td>\n",
       "      <td>8.0</td>\n",
       "      <td>-15.0</td>\n",
       "      <td>credit_card</td>\n",
       "      <td>103.26</td>\n",
       "      <td>aad9e42d77152c08c86c7313709b86b3</td>\n",
       "      <td>cachoeiro de itapemirim</td>\n",
       "      <td>ES</td>\n",
       "      <td>5.0</td>\n",
       "      <td>-20.843418</td>\n",
       "      <td>-41.116058</td>\n",
       "    </tr>\n",
       "    <tr>\n",
       "      <th>42897</th>\n",
       "      <td>65f9be44b39d121b9f03120ae4ceef73</td>\n",
       "      <td>b83aa8732c6dcaf653e111d52ebc91f1</td>\n",
       "      <td>shipped</td>\n",
       "      <td>2018-01-04 16:21:45</td>\n",
       "      <td>NaN</td>\n",
       "      <td>2018-01-31</td>\n",
       "      <td>26</td>\n",
       "      <td>NaN</td>\n",
       "      <td>NaN</td>\n",
       "      <td>boleto</td>\n",
       "      <td>60.00</td>\n",
       "      <td>42d2b957a53f0240c81dee35a2463059</td>\n",
       "      <td>goiania</td>\n",
       "      <td>GO</td>\n",
       "      <td>1.0</td>\n",
       "      <td>-16.684467</td>\n",
       "      <td>-49.314289</td>\n",
       "    </tr>\n",
       "    <tr>\n",
       "      <th>10027</th>\n",
       "      <td>77acb3b32ab623aaf525b52006d0c142</td>\n",
       "      <td>9be907cf929fd53da43778102239bbaa</td>\n",
       "      <td>delivered</td>\n",
       "      <td>2018-01-23 16:29:22</td>\n",
       "      <td>2018-02-15 00:07:36</td>\n",
       "      <td>2018-03-01</td>\n",
       "      <td>36</td>\n",
       "      <td>22.0</td>\n",
       "      <td>-14.0</td>\n",
       "      <td>credit_card</td>\n",
       "      <td>43.69</td>\n",
       "      <td>f8bbe7aad2046c42040bd68a76d3a3fc</td>\n",
       "      <td>campo grande</td>\n",
       "      <td>MS</td>\n",
       "      <td>5.0</td>\n",
       "      <td>-20.418042</td>\n",
       "      <td>-54.641389</td>\n",
       "    </tr>\n",
       "    <tr>\n",
       "      <th>28569</th>\n",
       "      <td>44aec9c2be37dd0f0b954562c94ccfec</td>\n",
       "      <td>eb1f5775cb6c152c959d5a76a8204baa</td>\n",
       "      <td>delivered</td>\n",
       "      <td>2017-09-26 14:23:47</td>\n",
       "      <td>2017-10-03 18:23:40</td>\n",
       "      <td>2017-10-20</td>\n",
       "      <td>23</td>\n",
       "      <td>7.0</td>\n",
       "      <td>-16.0</td>\n",
       "      <td>credit_card</td>\n",
       "      <td>168.29</td>\n",
       "      <td>4f8cc6471488ecd895f2073b868929dd</td>\n",
       "      <td>macae</td>\n",
       "      <td>RJ</td>\n",
       "      <td>5.0</td>\n",
       "      <td>-22.381727</td>\n",
       "      <td>-41.778117</td>\n",
       "    </tr>\n",
       "  </tbody>\n",
       "</table>\n",
       "</div>"
      ],
      "text/plain": [
       "                               order_id                       customer_id  \\\n",
       "23035  13ff8a02b63113dd72976dab2e01b171  de0af4a54889db8e1d4317a8bea43a25   \n",
       "61340  212754a30f758c661afd6430bc7841fc  1dc00a26f0c615d12cf874964e187c14   \n",
       "42897  65f9be44b39d121b9f03120ae4ceef73  b83aa8732c6dcaf653e111d52ebc91f1   \n",
       "10027  77acb3b32ab623aaf525b52006d0c142  9be907cf929fd53da43778102239bbaa   \n",
       "28569  44aec9c2be37dd0f0b954562c94ccfec  eb1f5775cb6c152c959d5a76a8204baa   \n",
       "\n",
       "      order_status order_purchase_timestamp order_delivered_customer_date  \\\n",
       "23035    delivered      2017-05-10 12:57:43           2017-05-19 12:55:55   \n",
       "61340    delivered      2018-06-30 20:01:17           2018-07-09 11:51:14   \n",
       "42897      shipped      2018-01-04 16:21:45                           NaN   \n",
       "10027    delivered      2018-01-23 16:29:22           2018-02-15 00:07:36   \n",
       "28569    delivered      2017-09-26 14:23:47           2017-10-03 18:23:40   \n",
       "\n",
       "      order_estimated_delivery_date  estimated_time  total_time  delta_time  \\\n",
       "23035                    2017-05-30              19         8.0       -11.0   \n",
       "61340                    2018-07-24              23         8.0       -15.0   \n",
       "42897                    2018-01-31              26         NaN         NaN   \n",
       "10027                    2018-03-01              36        22.0       -14.0   \n",
       "28569                    2017-10-20              23         7.0       -16.0   \n",
       "\n",
       "      payment_type  payment_value                customer_unique_id  \\\n",
       "23035  credit_card          85.14  b9d637448a10f135a21ae39465ad6445   \n",
       "61340  credit_card         103.26  aad9e42d77152c08c86c7313709b86b3   \n",
       "42897       boleto          60.00  42d2b957a53f0240c81dee35a2463059   \n",
       "10027  credit_card          43.69  f8bbe7aad2046c42040bd68a76d3a3fc   \n",
       "28569  credit_card         168.29  4f8cc6471488ecd895f2073b868929dd   \n",
       "\n",
       "                 customer_city customer_state  review_score  geolocation_lat  \\\n",
       "23035   santo antonio de padua             RJ           5.0       -21.539284   \n",
       "61340  cachoeiro de itapemirim             ES           5.0       -20.843418   \n",
       "42897                  goiania             GO           1.0       -16.684467   \n",
       "10027             campo grande             MS           5.0       -20.418042   \n",
       "28569                    macae             RJ           5.0       -22.381727   \n",
       "\n",
       "       geolocation_lng  \n",
       "23035       -42.185547  \n",
       "61340       -41.116058  \n",
       "42897       -49.314289  \n",
       "10027       -54.641389  \n",
       "28569       -41.778117  "
      ]
     },
     "execution_count": 2,
     "metadata": {},
     "output_type": "execute_result"
    }
   ],
   "source": [
    "df = pd.read_csv('olist.csv')\n",
    "df.sample(5)"
   ]
  },
  {
   "cell_type": "markdown",
   "id": "c1345176",
   "metadata": {},
   "source": [
    "<h2>1.3 Conversion au format datetime</h2><a class=\"anchor\" id=\"13\"></a>"
   ]
  },
  {
   "cell_type": "code",
   "execution_count": 3,
   "id": "182aba46",
   "metadata": {},
   "outputs": [
    {
     "name": "stdout",
     "output_type": "stream",
     "text": [
      "<class 'pandas.core.frame.DataFrame'>\n",
      "RangeIndex: 99440 entries, 0 to 99439\n",
      "Data columns (total 17 columns):\n",
      " #   Column                         Non-Null Count  Dtype         \n",
      "---  ------                         --------------  -----         \n",
      " 0   order_id                       99440 non-null  object        \n",
      " 1   customer_id                    99440 non-null  object        \n",
      " 2   order_status                   99440 non-null  object        \n",
      " 3   order_purchase_timestamp       99440 non-null  datetime64[ns]\n",
      " 4   order_delivered_customer_date  96475 non-null  datetime64[ns]\n",
      " 5   order_estimated_delivery_date  99440 non-null  datetime64[ns]\n",
      " 6   estimated_time                 99440 non-null  int64         \n",
      " 7   total_time                     96475 non-null  float64       \n",
      " 8   delta_time                     96475 non-null  float64       \n",
      " 9   payment_type                   99440 non-null  object        \n",
      " 10  payment_value                  99440 non-null  float64       \n",
      " 11  customer_unique_id             99440 non-null  object        \n",
      " 12  customer_city                  99440 non-null  object        \n",
      " 13  customer_state                 99440 non-null  object        \n",
      " 14  review_score                   98672 non-null  float64       \n",
      " 15  geolocation_lat                99162 non-null  float64       \n",
      " 16  geolocation_lng                99162 non-null  float64       \n",
      "dtypes: datetime64[ns](3), float64(6), int64(1), object(7)\n",
      "memory usage: 12.9+ MB\n"
     ]
    }
   ],
   "source": [
    "datetime_cols = [\n",
    "    'order_purchase_timestamp',\n",
    "    'order_delivered_customer_date',\n",
    "    'order_estimated_delivery_date'\n",
    "]\n",
    "\n",
    "for col in datetime_cols:\n",
    "    df[col] = pd.to_datetime(df[col])\n",
    "    \n",
    "df.info()"
   ]
  },
  {
   "cell_type": "markdown",
   "id": "a8cf854e",
   "metadata": {},
   "source": [
    "<h2>1.4 Sélection des données</h2><a class=\"anchor\" id=\"14\"></a>"
   ]
  },
  {
   "cell_type": "code",
   "execution_count": 4,
   "id": "dd485936",
   "metadata": {},
   "outputs": [
    {
     "data": {
      "text/plain": [
       "(97584, 17)"
      ]
     },
     "execution_count": 4,
     "metadata": {},
     "output_type": "execute_result"
    }
   ],
   "source": [
    "status_filter = (df['order_status'].isin(['delivered', 'shipped']))\n",
    "\n",
    "df = df[status_filter].copy()\n",
    "\n",
    "df.shape"
   ]
  },
  {
   "cell_type": "code",
   "execution_count": 5,
   "id": "f7514cd4",
   "metadata": {},
   "outputs": [
    {
     "name": "stdout",
     "output_type": "stream",
     "text": [
      "<class 'pandas.core.frame.DataFrame'>\n",
      "Index: 97584 entries, 0 to 99439\n",
      "Data columns (total 17 columns):\n",
      " #   Column                         Non-Null Count  Dtype         \n",
      "---  ------                         --------------  -----         \n",
      " 0   order_id                       97584 non-null  object        \n",
      " 1   customer_id                    97584 non-null  object        \n",
      " 2   order_status                   97584 non-null  object        \n",
      " 3   order_purchase_timestamp       97584 non-null  datetime64[ns]\n",
      " 4   order_delivered_customer_date  97584 non-null  datetime64[ns]\n",
      " 5   order_estimated_delivery_date  97584 non-null  datetime64[ns]\n",
      " 6   estimated_time                 97584 non-null  int64         \n",
      " 7   total_time                     96469 non-null  float64       \n",
      " 8   delta_time                     96469 non-null  float64       \n",
      " 9   payment_type                   97584 non-null  object        \n",
      " 10  payment_value                  97584 non-null  float64       \n",
      " 11  customer_unique_id             97584 non-null  object        \n",
      " 12  customer_city                  97584 non-null  object        \n",
      " 13  customer_state                 97584 non-null  object        \n",
      " 14  review_score                   97584 non-null  float64       \n",
      " 15  geolocation_lat                97313 non-null  float64       \n",
      " 16  geolocation_lng                97313 non-null  float64       \n",
      "dtypes: datetime64[ns](3), float64(6), int64(1), object(7)\n",
      "memory usage: 13.4+ MB\n"
     ]
    },
    {
     "name": "stderr",
     "output_type": "stream",
     "text": [
      "C:\\Users\\apetit\\AppData\\Local\\Temp\\ipykernel_12376\\3088779830.py:1: FutureWarning: A value is trying to be set on a copy of a DataFrame or Series through chained assignment using an inplace method.\n",
      "The behavior will change in pandas 3.0. This inplace method will never work because the intermediate object on which we are setting values always behaves as a copy.\n",
      "\n",
      "For example, when doing 'df[col].method(value, inplace=True)', try using 'df.method({col: value}, inplace=True)' or df[col] = df[col].method(value) instead, to perform the operation inplace on the original object.\n",
      "\n",
      "\n",
      "  df['order_delivered_customer_date'].fillna(value=df['order_estimated_delivery_date'], inplace=True)\n",
      "C:\\Users\\apetit\\AppData\\Local\\Temp\\ipykernel_12376\\3088779830.py:3: FutureWarning: A value is trying to be set on a copy of a DataFrame or Series through chained assignment using an inplace method.\n",
      "The behavior will change in pandas 3.0. This inplace method will never work because the intermediate object on which we are setting values always behaves as a copy.\n",
      "\n",
      "For example, when doing 'df[col].method(value, inplace=True)', try using 'df.method({col: value}, inplace=True)' or df[col] = df[col].method(value) instead, to perform the operation inplace on the original object.\n",
      "\n",
      "\n",
      "  df['review_score'].fillna(value=5, inplace=True)\n"
     ]
    }
   ],
   "source": [
    "df['order_delivered_customer_date'].fillna(value=df['order_estimated_delivery_date'], inplace=True)\n",
    "\n",
    "df['review_score'].fillna(value=5, inplace=True)\n",
    "\n",
    "df.info()"
   ]
  },
  {
   "cell_type": "code",
   "execution_count": 6,
   "id": "4e301af4",
   "metadata": {},
   "outputs": [
    {
     "data": {
      "text/plain": [
       "Timestamp('2016-10-11 13:46:32')"
      ]
     },
     "metadata": {},
     "output_type": "display_data"
    },
    {
     "data": {
      "text/plain": [
       "Timestamp('2018-10-17 13:22:46')"
      ]
     },
     "metadata": {},
     "output_type": "display_data"
    }
   ],
   "source": [
    "display(df['order_delivered_customer_date'].min())\n",
    "display(df['order_delivered_customer_date'].max())"
   ]
  },
  {
   "cell_type": "markdown",
   "id": "c24c1fa1",
   "metadata": {},
   "source": [
    "Nous allons supprimer les données avant le 1er Janvier 2017 pour avoir des données plus constantes"
   ]
  },
  {
   "cell_type": "code",
   "execution_count": 7,
   "id": "ebbf5e72",
   "metadata": {},
   "outputs": [],
   "source": [
    "min_date = dt.strptime(\"2017-01-01\", \"%Y-%m-%d\")\n",
    "max_date = dt.strptime(\"2018-09-30\", \"%Y-%m-%d\")\n",
    "\n",
    "min_filter = (df['order_delivered_customer_date'] > min_date)\n",
    "max_filter = (df['order_delivered_customer_date'] < max_date)\n",
    "\n",
    "df = df[min_filter & max_filter].copy()"
   ]
  },
  {
   "cell_type": "markdown",
   "id": "7184a964",
   "metadata": {},
   "source": [
    "Pour notre modelisation, nous n'avons pas besoin de toutes les colonnes. Pour rappel, les colonnes qui ont été utilisées sont:\n",
    "* `customer_unique_id`\n",
    "* `payment_value`\n",
    "* `order_delivered_customer_date`\n",
    "* `review_score`\n",
    "\n",
    "`order_id` était utilisée pour compter le nombre de commande par client. Les clients à commande multiple n'étant qu'une minorité, ce paramètre n'a pas été retenu"
   ]
  },
  {
   "cell_type": "code",
   "execution_count": 8,
   "id": "a9c507ce",
   "metadata": {},
   "outputs": [
    {
     "data": {
      "text/plain": [
       "(97306, 4)"
      ]
     },
     "execution_count": 8,
     "metadata": {},
     "output_type": "execute_result"
    }
   ],
   "source": [
    "df = df[['customer_unique_id', 'payment_value', 'order_delivered_customer_date', 'review_score']].copy()\n",
    "df.shape"
   ]
  },
  {
   "cell_type": "code",
   "execution_count": 9,
   "id": "aa9e7c73",
   "metadata": {},
   "outputs": [],
   "source": [
    "df['days_since_start'] = (df['order_delivered_customer_date'] - min_date).dt.days"
   ]
  },
  {
   "cell_type": "code",
   "execution_count": 10,
   "id": "65919a64",
   "metadata": {},
   "outputs": [
    {
     "data": {
      "text/plain": [
       "10"
      ]
     },
     "execution_count": 10,
     "metadata": {},
     "output_type": "execute_result"
    }
   ],
   "source": [
    "df['days_since_start'].min()"
   ]
  },
  {
   "cell_type": "code",
   "execution_count": 11,
   "id": "09822913",
   "metadata": {},
   "outputs": [
    {
     "data": {
      "text/plain": [
       "634"
      ]
     },
     "execution_count": 11,
     "metadata": {},
     "output_type": "execute_result"
    }
   ],
   "source": [
    "df['days_since_start'].max()"
   ]
  },
  {
   "cell_type": "markdown",
   "id": "ad431890",
   "metadata": {},
   "source": [
    "<h1>3. Modelisation Initiale</h1>"
   ]
  },
  {
   "cell_type": "code",
   "execution_count": 12,
   "id": "b5177bcd",
   "metadata": {},
   "outputs": [
    {
     "name": "stdout",
     "output_type": "stream",
     "text": [
      "CPU times: total: 109 ms\n",
      "Wall time: 127 ms\n"
     ]
    }
   ],
   "source": [
    "%%time\n",
    "\n",
    "original_train = df.groupby('customer_unique_id').agg({\n",
    "    'payment_value': 'sum',\n",
    "    'order_delivered_customer_date': 'max',\n",
    "    'review_score': 'mean'\n",
    "}).reset_index()"
   ]
  },
  {
   "cell_type": "code",
   "execution_count": 13,
   "id": "76b1cabc",
   "metadata": {},
   "outputs": [],
   "source": [
    "original_train['recency'] = (max_date - original_train['order_delivered_customer_date']).dt.days\n",
    "\n",
    "original_train['satisfied'] = [1 if score >= 4 else 0 for score in original_train['review_score']]\n",
    "\n",
    "X = original_train[['recency', 'satisfied', 'payment_value']].copy()\n",
    "\n",
    "scaler = StandardScaler()\n",
    "\n",
    "X_scaled = scaler.fit_transform(X)"
   ]
  },
  {
   "cell_type": "code",
   "execution_count": 14,
   "id": "71f7c13c",
   "metadata": {},
   "outputs": [
    {
     "name": "stdout",
     "output_type": "stream",
     "text": [
      "Original Model training Completed\n"
     ]
    }
   ],
   "source": [
    "original_model = KMeans(n_clusters=4, init='k-means++', random_state=42)\n",
    "original_model.fit(X_scaled)\n",
    "\n",
    "centroids = original_model.cluster_centers_\n",
    "\n",
    "print(\"Original Model training Completed\")"
   ]
  },
  {
   "cell_type": "markdown",
   "id": "5118d673",
   "metadata": {},
   "source": [
    "<h1>4. Simulation</h1><br>\n",
    "La simulation s'effectue grâce à une boucle while qui se déroule en 5 étapes\n",
    "\n",
    "- Préparation des données\n",
    "\n",
    "- Sélection des colonnes\n",
    "\n",
    "- Clusterisation avec le modèle de réference et le nouveau modèle\n",
    "\n",
    "- Enregistrement des résultats\n",
    "\n",
    "- Mise à jour du réferentiel de temps"
   ]
  },
  {
   "cell_type": "code",
   "execution_count": 19,
   "id": "d28485a2",
   "metadata": {},
   "outputs": [
    {
     "data": {
      "image/png": "[encoded data removed]",
      "text/plain": [
       "<Figure size 1200x400 with 1 Axes>"
      ]
     },
     "metadata": {},
     "output_type": "display_data"
    }
   ],
   "source": [
    "n_days = df['days_since_start'].max()\n",
    "\n",
    "results = pd.DataFrame(columns=['simulation_days', 'ari_score'])\n",
    "\n",
    "while n_days > 350:\n",
    "    \n",
    "    # 1.Preparation des donnees\n",
    "    max_days_filter = (df['days_since_start'] <= n_days)\n",
    "    \n",
    "    test_df = df[max_days_filter].copy()\n",
    "    \n",
    "    test_df = test_df.groupby('customer_unique_id').agg({\n",
    "        'payment_value': 'sum',\n",
    "        'order_delivered_customer_date': 'max',\n",
    "        'review_score': 'mean'\n",
    "    }).reset_index()\n",
    "    \n",
    "    max_date = min_date + pd.Timedelta(days=n_days)\n",
    "    \n",
    "    test_df['recency'] = (max_date - test_df['order_delivered_customer_date']).dt.days\n",
    "    \n",
    "    test_df['satisfied'] = [1 if score >= 4 else 0 for score in test_df.review_score]\n",
    "    \n",
    "    # 2. Selection des colonnes et standardisation\n",
    "    X = test_df[['recency', 'satisfied', 'payment_value']].copy()\n",
    "    \n",
    "    X_scaled = scaler.transform(X)\n",
    "    \n",
    "    # 3. Clusterisation avec les deux modeles puis comparasion des resultats\n",
    "    clusters_0 = original_model.predict(X_scaled)\n",
    "    \n",
    "    new_model = KMeans(n_clusters=4, init=centroids, random_state=42)\n",
    "    \n",
    "    new_clusters = new_model.fit_predict(X_scaled)\n",
    "    \n",
    "    ari_score = adjusted_rand_score(clusters_0, new_clusters)\n",
    "    \n",
    "    # 4. Enregistrement du score dans la df results\n",
    "    simulation_days = 634 - n_days\n",
    "    \n",
    "    new_row = {'simulation_days': simulation_days, 'ari_score': ari_score}\n",
    "    \n",
    "    l = results.shape[0]\n",
    "    \n",
    "    results.loc[l] = new_row\n",
    "    \n",
    "    #5. mises a jour du parametre de temps\n",
    "    n_days -= 1\n",
    "\n",
    "plt.figure(figsize=(12,4))\n",
    "sns.lineplot(data=results, x='simulation_days', y='ari_score', label='ari_score')\n",
    "plt.legend();"
   ]
  },
  {
   "cell_type": "code",
   "execution_count": null,
   "id": "2e47dafb",
   "metadata": {},
   "outputs": [],
   "source": []
  }
 ],
 "metadata": {
  "kernelspec": {
   "display_name": "Python 3 (ipykernel)",
   "language": "python",
   "name": "python3"
  },
  "language_info": {
   "codemirror_mode": {
    "name": "ipython",
    "version": 3
   },
   "file_extension": ".py",
   "mimetype": "text/x-python",
   "name": "python",
   "nbconvert_exporter": "python",
   "pygments_lexer": "ipython3",
   "version": "3.11.9"
  }
 },
 "nbformat": 4,
 "nbformat_minor": 5
}
